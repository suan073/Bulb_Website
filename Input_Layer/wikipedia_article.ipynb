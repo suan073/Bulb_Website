{
 "cells": [
  {
   "cell_type": "code",
   "execution_count": 45,
   "metadata": {},
   "outputs": [
    {
     "name": "stderr",
     "output_type": "stream",
     "text": [
      "6037.24s - pydevd: Sending message related to process being replaced timed-out after 5 seconds\n"
     ]
    },
    {
     "name": "stdout",
     "output_type": "stream",
     "text": [
      "Requirement already satisfied: xlrd in /opt/homebrew/lib/python3.10/site-packages (2.0.1)\n",
      "Note: you may need to restart the kernel to use updated packages.\n"
     ]
    }
   ],
   "source": [
    "pip install xlrd"
   ]
  },
  {
   "cell_type": "code",
   "execution_count": 3,
   "metadata": {},
   "outputs": [],
   "source": [
    "import pandas as pd\n",
    "\n",
    "nouns_korean_pd = pd.read_excel(\"Data/nouns_korean.xls\")\n",
    "nouns_korean_pd = nouns_korean_pd[nouns_korean_pd[\"품사\"] == \"명\"]\n",
    "\n",
    "nouns_korean = []\n",
    "for noun in nouns_korean_pd[\"단어\"]:\n",
    "    n = \"\".join([i for i in noun if not i.isdigit()])\n",
    "    nouns_korean += [n]\n",
    "\n",
    "nouns_korean = set(nouns_korean)\n",
    "nouns_korean = list(nouns_korean)"
   ]
  },
  {
   "cell_type": "code",
   "execution_count": 4,
   "metadata": {},
   "outputs": [],
   "source": [
    "import numpy as np\n",
    "\n",
    "import wikipediaapi\n",
    "\n",
    "wiki = wikipediaapi.Wikipedia(\"ko\")\n",
    "\n",
    "count = 0\n",
    "for noun_korean in nouns_korean:\n",
    "    page = wiki.page(noun_korean)\n",
    "    if page.exists():\n",
    "        f = open(f\"Data/text/{count}.txt\", \"w\")\n",
    "        f.write(page.text)\n",
    "        f.close()\n",
    "\n",
    "        count += 1\n",
    "    "
   ]
  },
  {
   "cell_type": "code",
   "execution_count": 1,
   "metadata": {},
   "outputs": [
    {
     "name": "stdout",
     "output_type": "stream",
     "text": [
      "[0.023s][warning][os,thread] Attempt to protect stack guard pages failed (0x000000016b01c000-0x000000016b028000).\n",
      "[0.023s][warning][os,thread] Attempt to deallocate stack guard pages failed.\n"
     ]
    }
   ],
   "source": [
    "from konlpy.tag import Okt\n",
    "okt = Okt()\n",
    "\n",
    "PAGE_N = 2698\n",
    "\n",
    "file = open(f\"Data/text/text_n.txt\", \"w\")\n",
    "\n",
    "for i in range(0, PAGE_N):\n",
    "    sentences = open(f\"Data/text/{i}.txt\", \"r\").read().splitlines()\n",
    "    # f = open(f\"Data/text/{i}_n.txt\", \"w\")\n",
    "\n",
    "    for sentence in sentences:\n",
    "        if sentence == \"\": continue\n",
    "        nouns = okt.nouns(str(sentence))\n",
    "        noun_sentence = \" \".join(nouns)\n",
    "        file.write(noun_sentence+\"\\n\")\n",
    "        # f.write(noun_sentence+\"\\n\")\n",
    "    \n",
    "    # f.close()\n",
    "\n",
    "file.close()"
   ]
  }
 ],
 "metadata": {
  "kernelspec": {
   "display_name": "Python 3",
   "language": "python",
   "name": "python3"
  },
  "language_info": {
   "codemirror_mode": {
    "name": "ipython",
    "version": 3
   },
   "file_extension": ".py",
   "mimetype": "text/x-python",
   "name": "python",
   "nbconvert_exporter": "python",
   "pygments_lexer": "ipython3",
   "version": "3.10.8"
  },
  "orig_nbformat": 4,
  "vscode": {
   "interpreter": {
    "hash": "b0fa6594d8f4cbf19f97940f81e996739fb7646882a419484c72d19e05852a7e"
   }
  }
 },
 "nbformat": 4,
 "nbformat_minor": 2
}
